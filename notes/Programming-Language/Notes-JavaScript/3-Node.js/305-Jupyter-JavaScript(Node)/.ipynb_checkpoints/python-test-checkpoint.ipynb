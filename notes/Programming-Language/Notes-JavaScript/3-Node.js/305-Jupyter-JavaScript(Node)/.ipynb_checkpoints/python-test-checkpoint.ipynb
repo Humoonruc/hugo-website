{
 "cells": [
  {
   "cell_type": "code",
   "execution_count": 1,
   "id": "amino-digit",
   "metadata": {},
   "outputs": [],
   "source": [
    "a = 3;"
   ]
  },
  {
   "cell_type": "code",
   "execution_count": 2,
   "id": "accredited-party",
   "metadata": {},
   "outputs": [
    {
     "name": "stdout",
     "output_type": "stream",
     "text": [
      "7\n"
     ]
    }
   ],
   "source": [
    "b = 4;\n",
    "print(a+b);"
   ]
  },
  {
   "cell_type": "code",
   "execution_count": null,
   "id": "political-abuse",
   "metadata": {},
   "outputs": [],
   "source": []
  }
 ],
 "metadata": {
  "kernelspec": {
   "display_name": "Python 3",
   "language": "python",
   "name": "python3"
  },
  "language_info": {
   "codemirror_mode": {
    "name": "ipython",
    "version": 3
   },
   "file_extension": ".py",
   "mimetype": "text/x-python",
   "name": "python",
   "nbconvert_exporter": "python",
   "pygments_lexer": "ipython3",
   "version": "3.9.2"
  }
 },
 "nbformat": 4,
 "nbformat_minor": 5
}
