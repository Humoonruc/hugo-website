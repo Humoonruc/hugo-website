{
 "cells": [
  {
   "cell_type": "code",
   "execution_count": null,
   "id": "surgical-terrorism",
   "metadata": {},
   "outputs": [],
   "source": [
    "let a = 3;"
   ]
  },
  {
   "cell_type": "code",
   "execution_count": null,
   "id": "moved-classification",
   "metadata": {},
   "outputs": [],
   "source": [
    "console.log(a);"
   ]
  },
  {
   "cell_type": "code",
   "execution_count": null,
   "id": "experimental-batch",
   "metadata": {},
   "outputs": [],
   "source": [
    "let b = [1, 2, 3];\n",
    "let c = [4, 5, 6];\n",
    "console.log(b.concat(c));"
   ]
  },
  {
   "cell_type": "code",
   "execution_count": null,
   "id": "worse-answer",
   "metadata": {},
   "outputs": [],
   "source": [
    "let d = b.concat(c)"
   ]
  },
  {
   "cell_type": "code",
   "execution_count": null,
   "id": "combined-packaging",
   "metadata": {},
   "outputs": [],
   "source": [
    "console.log(d);"
   ]
  }
 ],
 "metadata": {
  "kernelspec": {
   "display_name": "Javascript (Node.js)",
   "language": "javascript",
   "name": "javascript"
  },
  "language_info": {
   "file_extension": ".js",
   "mimetype": "application/javascript",
   "name": "javascript",
   "version": "14.16.1"
  },
  "toc-autonumbering": false,
  "toc-showcode": false,
  "toc-showmarkdowntxt": true
 },
 "nbformat": 4,
 "nbformat_minor": 5
}
